{
 "cells": [
  {
   "cell_type": "code",
   "execution_count": 1,
   "id": "bb3adfef",
   "metadata": {},
   "outputs": [
    {
     "name": "stderr",
     "output_type": "stream",
     "text": [
      "[nltk_data] Downloading package gutenberg to C:\\Users\\Rishad\n",
      "[nltk_data]     R\\AppData\\Roaming\\nltk_data...\n",
      "[nltk_data]   Package gutenberg is already up-to-date!\n"
     ]
    },
    {
     "name": "stdout",
     "output_type": "stream",
     "text": [
      "WARNING:tensorflow:From e:\\machine learning\\project\\predict next word\\venv\\lib\\site-packages\\keras\\src\\losses.py:2976: The name tf.losses.sparse_softmax_cross_entropy is deprecated. Please use tf.compat.v1.losses.sparse_softmax_cross_entropy instead.\n",
      "\n"
     ]
    }
   ],
   "source": [
    "import nltk,os\n",
    "nltk.download('gutenberg')\n",
    "\n",
    "from nltk.corpus import gutenberg\n",
    "import pandas as pd\n",
    "\n",
    "data=gutenberg.raw('shakespeare-hamlet.txt')\n",
    "\n",
    "os.makedirs('data',exist_ok=True)\n",
    "\n",
    "with open('data/hamlet.txt','w') as file:\n",
    "    file.write(data)\n",
    "    \n",
    "import numpy as np\n",
    "from tensorflow.keras.preprocessing.text import Tokenizer\n",
    "from tensorflow.keras.preprocessing.sequence import pad_sequences\n",
    "from sklearn.model_selection import train_test_split"
   ]
  },
  {
   "cell_type": "code",
   "execution_count": 3,
   "id": "21ba260e",
   "metadata": {},
   "outputs": [
    {
     "name": "stdout",
     "output_type": "stream",
     "text": [
      "4818\n"
     ]
    }
   ],
   "source": [
    "with open('data/hamlet.txt','r') as file:\n",
    "    text=file.read().lower()\n",
    "    \n",
    "tokenizer=Tokenizer()\n",
    "tokenizer.fit_on_texts([text])\n",
    "total_words=len(tokenizer.word_index)+1\n",
    "print(total_words)"
   ]
  },
  {
   "cell_type": "code",
   "execution_count": 4,
   "id": "324ee896",
   "metadata": {},
   "outputs": [
    {
     "data": {
      "text/plain": [
       "14"
      ]
     },
     "execution_count": 4,
     "metadata": {},
     "output_type": "execute_result"
    }
   ],
   "source": [
    "inputsequences=[]\n",
    "\n",
    "for line in text.split('\\n'):\n",
    "    token_list=tokenizer.texts_to_sequences([line])[0]\n",
    "    for i in range(1,len(token_list)):\n",
    "        n_gram_sequences=token_list[:i+1]\n",
    "        inputsequences.append(n_gram_sequences)\n",
    "        \n",
    "max_len=max([len(x) for x in inputsequences])\n",
    "max_len"
   ]
  },
  {
   "cell_type": "code",
   "execution_count": 5,
   "id": "00261d97",
   "metadata": {},
   "outputs": [
    {
     "name": "stdout",
     "output_type": "stream",
     "text": [
      "WARNING:tensorflow:From e:\\machine learning\\project\\predict next word\\venv\\lib\\site-packages\\keras\\src\\backend.py:873: The name tf.get_default_graph is deprecated. Please use tf.compat.v1.get_default_graph instead.\n",
      "\n"
     ]
    }
   ],
   "source": [
    "input_sequences=np.array(pad_sequences(inputsequences,maxlen=max_len,padding='pre'))\n",
    "input_sequences\n",
    "\n",
    "x,y=input_sequences[:,:-1],input_sequences[:,-1]\n",
    "import tensorflow as tf\n",
    "\n",
    "y=tf.keras.utils.to_categorical(y,num_classes=total_words)\n",
    "\n",
    "x_train,x_test,y_train,y_test=train_test_split(x,y,test_size=0.2)\n",
    "\n",
    "from tensorflow.keras.models import Sequential\n",
    "from tensorflow.keras.layers import LSTM,Embedding,Dense,Dropout,GRU\n",
    "\n",
    "model=Sequential()\n",
    "model.add(Embedding(total_words,100,input_length=max_len-1))\n",
    "model.add(GRU(150,return_sequences=True))\n",
    "model.add(Dropout(0.4))\n",
    "model.add(GRU(100))\n",
    "model.add(Dropout(0.4))\n",
    "model.add(Dense(total_words,activation='softmax'))"
   ]
  },
  {
   "cell_type": "code",
   "execution_count": 6,
   "id": "4507c296",
   "metadata": {},
   "outputs": [
    {
     "name": "stdout",
     "output_type": "stream",
     "text": [
      "WARNING:tensorflow:From e:\\machine learning\\project\\predict next word\\venv\\lib\\site-packages\\keras\\src\\optimizers\\__init__.py:309: The name tf.train.Optimizer is deprecated. Please use tf.compat.v1.train.Optimizer instead.\n",
      "\n",
      "Model: \"sequential\"\n",
      "_________________________________________________________________\n",
      " Layer (type)                Output Shape              Param #   \n",
      "=================================================================\n",
      " embedding (Embedding)       (None, 13, 100)           481800    \n",
      "                                                                 \n",
      " gru (GRU)                   (None, 13, 150)           113400    \n",
      "                                                                 \n",
      " dropout (Dropout)           (None, 13, 150)           0         \n",
      "                                                                 \n",
      " gru_1 (GRU)                 (None, 100)               75600     \n",
      "                                                                 \n",
      " dropout_1 (Dropout)         (None, 100)               0         \n",
      "                                                                 \n",
      " dense (Dense)               (None, 4818)              486618    \n",
      "                                                                 \n",
      "=================================================================\n",
      "Total params: 1157418 (4.42 MB)\n",
      "Trainable params: 1157418 (4.42 MB)\n",
      "Non-trainable params: 0 (0.00 Byte)\n",
      "_________________________________________________________________\n",
      "Epoch 1/50\n",
      "WARNING:tensorflow:From e:\\machine learning\\project\\predict next word\\venv\\lib\\site-packages\\keras\\src\\utils\\tf_utils.py:492: The name tf.ragged.RaggedTensorValue is deprecated. Please use tf.compat.v1.ragged.RaggedTensorValue instead.\n",
      "\n",
      "WARNING:tensorflow:From e:\\machine learning\\project\\predict next word\\venv\\lib\\site-packages\\keras\\src\\engine\\base_layer_utils.py:384: The name tf.executing_eagerly_outside_functions is deprecated. Please use tf.compat.v1.executing_eagerly_outside_functions instead.\n",
      "\n",
      "644/644 [==============================] - 26s 33ms/step - loss: 6.9762 - accuracy: 0.0299 - val_loss: 6.7747 - val_accuracy: 0.0342\n",
      "Epoch 2/50\n",
      "644/644 [==============================] - 22s 33ms/step - loss: 6.5746 - accuracy: 0.0347 - val_loss: 6.7213 - val_accuracy: 0.0414\n",
      "Epoch 3/50\n",
      "644/644 [==============================] - 23s 35ms/step - loss: 6.4172 - accuracy: 0.0437 - val_loss: 6.7881 - val_accuracy: 0.0466\n",
      "Epoch 4/50\n",
      "644/644 [==============================] - 19s 30ms/step - loss: 6.3167 - accuracy: 0.0481 - val_loss: 6.8080 - val_accuracy: 0.0476\n",
      "Epoch 5/50\n",
      "644/644 [==============================] - 20s 31ms/step - loss: 6.2386 - accuracy: 0.0506 - val_loss: 6.8437 - val_accuracy: 0.0468\n",
      "Epoch 6/50\n",
      "644/644 [==============================] - 22s 34ms/step - loss: 6.1776 - accuracy: 0.0525 - val_loss: 6.8661 - val_accuracy: 0.0527\n",
      "Epoch 7/50\n",
      "644/644 [==============================] - 22s 34ms/step - loss: 6.0947 - accuracy: 0.0579 - val_loss: 6.9285 - val_accuracy: 0.0583\n",
      "Epoch 8/50\n",
      "644/644 [==============================] - 22s 34ms/step - loss: 6.0019 - accuracy: 0.0646 - val_loss: 6.8937 - val_accuracy: 0.0637\n",
      "Epoch 9/50\n",
      "644/644 [==============================] - 21s 33ms/step - loss: 5.9164 - accuracy: 0.0714 - val_loss: 6.9450 - val_accuracy: 0.0672\n",
      "Epoch 10/50\n",
      "644/644 [==============================] - 22s 34ms/step - loss: 5.8226 - accuracy: 0.0762 - val_loss: 7.0156 - val_accuracy: 0.0670\n",
      "Epoch 11/50\n",
      "644/644 [==============================] - 22s 34ms/step - loss: 5.7417 - accuracy: 0.0775 - val_loss: 7.0751 - val_accuracy: 0.0690\n",
      "Epoch 12/50\n",
      "644/644 [==============================] - 24s 37ms/step - loss: 5.6585 - accuracy: 0.0814 - val_loss: 7.1259 - val_accuracy: 0.0661\n",
      "Epoch 13/50\n",
      "644/644 [==============================] - 35s 55ms/step - loss: 5.5700 - accuracy: 0.0860 - val_loss: 7.1659 - val_accuracy: 0.0699\n",
      "Epoch 14/50\n",
      "644/644 [==============================] - 35s 54ms/step - loss: 5.4965 - accuracy: 0.0881 - val_loss: 7.1875 - val_accuracy: 0.0703\n",
      "Epoch 15/50\n",
      "644/644 [==============================] - 32s 49ms/step - loss: 5.4128 - accuracy: 0.0914 - val_loss: 7.2198 - val_accuracy: 0.0699\n",
      "Epoch 16/50\n",
      "644/644 [==============================] - 37s 58ms/step - loss: 5.3325 - accuracy: 0.0940 - val_loss: 7.2776 - val_accuracy: 0.0707\n",
      "Epoch 17/50\n",
      "644/644 [==============================] - 35s 55ms/step - loss: 5.2593 - accuracy: 0.1000 - val_loss: 7.3550 - val_accuracy: 0.0717\n",
      "Epoch 18/50\n",
      "644/644 [==============================] - 35s 55ms/step - loss: 5.1866 - accuracy: 0.1021 - val_loss: 7.3450 - val_accuracy: 0.0707\n",
      "Epoch 19/50\n",
      "644/644 [==============================] - 34s 53ms/step - loss: 5.1129 - accuracy: 0.1075 - val_loss: 7.4081 - val_accuracy: 0.0748\n",
      "Epoch 20/50\n",
      "644/644 [==============================] - 36s 57ms/step - loss: 5.0408 - accuracy: 0.1094 - val_loss: 7.4619 - val_accuracy: 0.0692\n",
      "Epoch 21/50\n",
      "644/644 [==============================] - 32s 49ms/step - loss: 4.9676 - accuracy: 0.1143 - val_loss: 7.4819 - val_accuracy: 0.0717\n",
      "Epoch 22/50\n",
      "644/644 [==============================] - 33s 52ms/step - loss: 4.8890 - accuracy: 0.1193 - val_loss: 7.5714 - val_accuracy: 0.0713\n",
      "Epoch 23/50\n",
      "644/644 [==============================] - 35s 54ms/step - loss: 4.8414 - accuracy: 0.1233 - val_loss: 7.5887 - val_accuracy: 0.0713\n",
      "Epoch 24/50\n",
      "644/644 [==============================] - 34s 52ms/step - loss: 4.7623 - accuracy: 0.1300 - val_loss: 7.6486 - val_accuracy: 0.0701\n",
      "Epoch 25/50\n",
      "644/644 [==============================] - 33s 51ms/step - loss: 4.6947 - accuracy: 0.1361 - val_loss: 7.6850 - val_accuracy: 0.0696\n",
      "Epoch 26/50\n",
      "644/644 [==============================] - 37s 58ms/step - loss: 4.6295 - accuracy: 0.1393 - val_loss: 7.7042 - val_accuracy: 0.0688\n",
      "Epoch 27/50\n",
      "644/644 [==============================] - 35s 54ms/step - loss: 4.5586 - accuracy: 0.1479 - val_loss: 7.7977 - val_accuracy: 0.0690\n",
      "Epoch 28/50\n",
      "644/644 [==============================] - 36s 55ms/step - loss: 4.5005 - accuracy: 0.1528 - val_loss: 7.7754 - val_accuracy: 0.0676\n",
      "Epoch 29/50\n",
      "644/644 [==============================] - 35s 54ms/step - loss: 4.4467 - accuracy: 0.1590 - val_loss: 7.8121 - val_accuracy: 0.0653\n",
      "Epoch 30/50\n",
      "644/644 [==============================] - 34s 53ms/step - loss: 4.3781 - accuracy: 0.1669 - val_loss: 7.8421 - val_accuracy: 0.0659\n",
      "Epoch 31/50\n",
      "644/644 [==============================] - 36s 57ms/step - loss: 4.3212 - accuracy: 0.1685 - val_loss: 7.9091 - val_accuracy: 0.0629\n",
      "Epoch 32/50\n",
      "644/644 [==============================] - 35s 54ms/step - loss: 4.2660 - accuracy: 0.1793 - val_loss: 7.9517 - val_accuracy: 0.0614\n",
      "Epoch 33/50\n",
      "644/644 [==============================] - 37s 58ms/step - loss: 4.2226 - accuracy: 0.1821 - val_loss: 7.9753 - val_accuracy: 0.0666\n",
      "Epoch 34/50\n",
      "644/644 [==============================] - 33s 51ms/step - loss: 4.1532 - accuracy: 0.1920 - val_loss: 7.9868 - val_accuracy: 0.0631\n",
      "Epoch 35/50\n",
      "644/644 [==============================] - 35s 54ms/step - loss: 4.1093 - accuracy: 0.2011 - val_loss: 8.0347 - val_accuracy: 0.0651\n",
      "Epoch 36/50\n",
      "644/644 [==============================] - 34s 53ms/step - loss: 4.0600 - accuracy: 0.2086 - val_loss: 8.0518 - val_accuracy: 0.0606\n",
      "Epoch 37/50\n",
      "644/644 [==============================] - 34s 54ms/step - loss: 4.0197 - accuracy: 0.2120 - val_loss: 8.0789 - val_accuracy: 0.0635\n",
      "Epoch 38/50\n",
      "644/644 [==============================] - 35s 54ms/step - loss: 3.9717 - accuracy: 0.2177 - val_loss: 8.1451 - val_accuracy: 0.0670\n",
      "Epoch 39/50\n",
      "644/644 [==============================] - 32s 50ms/step - loss: 3.9253 - accuracy: 0.2239 - val_loss: 8.1574 - val_accuracy: 0.0682\n",
      "Epoch 40/50\n",
      "644/644 [==============================] - 867s 1s/step - loss: 3.8724 - accuracy: 0.2345 - val_loss: 8.1863 - val_accuracy: 0.0637\n",
      "Epoch 41/50\n",
      "644/644 [==============================] - 23s 35ms/step - loss: 3.8256 - accuracy: 0.2427 - val_loss: 8.1870 - val_accuracy: 0.0635\n",
      "Epoch 42/50\n",
      "644/644 [==============================] - 22s 35ms/step - loss: 3.7836 - accuracy: 0.2433 - val_loss: 8.2574 - val_accuracy: 0.0631\n",
      "Epoch 43/50\n",
      "644/644 [==============================] - 23s 35ms/step - loss: 3.7522 - accuracy: 0.2499 - val_loss: 8.2209 - val_accuracy: 0.0628\n",
      "Epoch 44/50\n",
      "644/644 [==============================] - 22s 34ms/step - loss: 3.7120 - accuracy: 0.2555 - val_loss: 8.2894 - val_accuracy: 0.0637\n",
      "Epoch 45/50\n",
      "644/644 [==============================] - 21s 33ms/step - loss: 3.6555 - accuracy: 0.2666 - val_loss: 8.3006 - val_accuracy: 0.0604\n",
      "Epoch 46/50\n",
      "644/644 [==============================] - 23s 36ms/step - loss: 3.6408 - accuracy: 0.2594 - val_loss: 8.3234 - val_accuracy: 0.0633\n",
      "Epoch 47/50\n",
      "644/644 [==============================] - 22s 34ms/step - loss: 3.6053 - accuracy: 0.2679 - val_loss: 8.3579 - val_accuracy: 0.0614\n",
      "Epoch 48/50\n",
      "644/644 [==============================] - 22s 34ms/step - loss: 3.5610 - accuracy: 0.2771 - val_loss: 8.3474 - val_accuracy: 0.0622\n",
      "Epoch 49/50\n",
      "644/644 [==============================] - 22s 34ms/step - loss: 3.5340 - accuracy: 0.2826 - val_loss: 8.4033 - val_accuracy: 0.0626\n",
      "Epoch 50/50\n",
      "644/644 [==============================] - 21s 33ms/step - loss: 3.4949 - accuracy: 0.2860 - val_loss: 8.4206 - val_accuracy: 0.0626\n"
     ]
    }
   ],
   "source": [
    "model.compile(optimizer='adam',loss='categorical_crossentropy',metrics=['accuracy'])\n",
    "model.summary()\n",
    "\n",
    "history=model.fit(x_train,y_train,\n",
    "                  epochs=50,\n",
    "                  validation_data=(x_test,y_test),\n",
    "                  verbose=1,\n",
    "                  )"
   ]
  },
  {
   "cell_type": "code",
   "execution_count": 7,
   "id": "5891a64e",
   "metadata": {},
   "outputs": [],
   "source": [
    "def predict_next_word(model,tokenizer,text,max_len):\n",
    "    token_list=tokenizer.texts_to_sequences([text])[0]\n",
    "    if len(token_list)>=max_len:\n",
    "        token_list=token_list[-(max_len-1):]\n",
    "        \n",
    "    token_list=pad_sequences([token_list],maxlen=max_len-1,padding='pre')\n",
    "    predicted=model.predict(token_list,verbose=0)\n",
    "    predicted_word_index=np.argmax(predicted,axis=1)\n",
    "    \n",
    "    for word,index in tokenizer.word_index.items():\n",
    "        if index==predicted_word_index:\n",
    "            return word\n",
    "    return None"
   ]
  },
  {
   "cell_type": "code",
   "execution_count": 8,
   "id": "cfe8e8b2",
   "metadata": {},
   "outputs": [
    {
     "name": "stdout",
     "output_type": "stream",
     "text": [
      "this the input text --To be or not to be \n",
      "next word is --wish'd\n"
     ]
    }
   ],
   "source": [
    "input_text=\"To be or not to be \"\n",
    "print(f'this the input text --{input_text}')\n",
    "max_sequence_len=model.input_shape[1]+1\n",
    "next_word=predict_next_word(model,tokenizer,input_text,max_sequence_len)\n",
    "print(f'next word is --{next_word}')"
   ]
  },
  {
   "cell_type": "code",
   "execution_count": 9,
   "id": "1ff2067f",
   "metadata": {},
   "outputs": [
    {
     "name": "stderr",
     "output_type": "stream",
     "text": [
      "e:\\machine learning\\project\\predict next word\\venv\\lib\\site-packages\\keras\\src\\engine\\training.py:3103: UserWarning: You are saving your model as an HDF5 file via `model.save()`. This file format is considered legacy. We recommend using instead the native Keras format, e.g. `model.save('my_model.keras')`.\n",
      "  saving_api.save_model(\n"
     ]
    }
   ],
   "source": [
    "model.save('model/GRU.h5')"
   ]
  },
  {
   "cell_type": "code",
   "execution_count": null,
   "id": "99f0eb57",
   "metadata": {},
   "outputs": [],
   "source": []
  }
 ],
 "metadata": {
  "kernelspec": {
   "display_name": "Python 3",
   "language": "python",
   "name": "python3"
  },
  "language_info": {
   "codemirror_mode": {
    "name": "ipython",
    "version": 3
   },
   "file_extension": ".py",
   "mimetype": "text/x-python",
   "name": "python",
   "nbconvert_exporter": "python",
   "pygments_lexer": "ipython3",
   "version": "3.10.0"
  }
 },
 "nbformat": 4,
 "nbformat_minor": 5
}
