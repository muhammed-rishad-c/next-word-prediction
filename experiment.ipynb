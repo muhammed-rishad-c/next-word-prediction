{
 "cells": [
  {
   "cell_type": "code",
   "execution_count": 1,
   "id": "f7a88e15",
   "metadata": {},
   "outputs": [
    {
     "name": "stderr",
     "output_type": "stream",
     "text": [
      "[nltk_data] Downloading package gutenberg to C:\\Users\\Rishad\n",
      "[nltk_data]     R\\AppData\\Roaming\\nltk_data...\n",
      "[nltk_data]   Package gutenberg is already up-to-date!\n"
     ]
    }
   ],
   "source": [
    "import nltk,os\n",
    "nltk.download('gutenberg')\n",
    "\n",
    "from nltk.corpus import gutenberg\n",
    "import pandas as pd\n",
    "\n",
    "data=gutenberg.raw('shakespeare-hamlet.txt')\n",
    "\n",
    "os.makedirs('data',exist_ok=True)\n",
    "\n",
    "with open('data/hamlet.txt','w') as file:\n",
    "    file.write(data)"
   ]
  },
  {
   "cell_type": "code",
   "execution_count": 2,
   "id": "db72411d",
   "metadata": {},
   "outputs": [
    {
     "name": "stdout",
     "output_type": "stream",
     "text": [
      "WARNING:tensorflow:From e:\\machine learning\\project\\predict next word\\venv\\lib\\site-packages\\keras\\src\\losses.py:2976: The name tf.losses.sparse_softmax_cross_entropy is deprecated. Please use tf.compat.v1.losses.sparse_softmax_cross_entropy instead.\n",
      "\n"
     ]
    }
   ],
   "source": [
    "import numpy as np\n",
    "from tensorflow.keras.preprocessing.text import Tokenizer\n",
    "from tensorflow.keras.preprocessing.sequence import pad_sequences\n",
    "from sklearn.model_selection import train_test_split"
   ]
  },
  {
   "cell_type": "code",
   "execution_count": 3,
   "id": "db93fb19",
   "metadata": {},
   "outputs": [
    {
     "name": "stdout",
     "output_type": "stream",
     "text": [
      "4818\n"
     ]
    }
   ],
   "source": [
    "with open('data/hamlet.txt','r') as file:\n",
    "    text=file.read().lower()\n",
    "    \n",
    "tokenizer=Tokenizer()\n",
    "tokenizer.fit_on_texts([text])\n",
    "total_words=len(tokenizer.word_index)+1\n",
    "print(total_words)"
   ]
  },
  {
   "cell_type": "code",
   "execution_count": null,
   "id": "9b939e8d",
   "metadata": {},
   "outputs": [],
   "source": [
    "tokenizer.word_index"
   ]
  },
  {
   "cell_type": "code",
   "execution_count": 5,
   "id": "77a1483a",
   "metadata": {},
   "outputs": [],
   "source": [
    "inputsequences=[]\n",
    "\n",
    "for line in text.split('\\n'):\n",
    "    token_list=tokenizer.texts_to_sequences([line])[0]\n",
    "    for i in range(1,len(token_list)):\n",
    "        n_gram_sequences=token_list[:i+1]\n",
    "        inputsequences.append(n_gram_sequences)"
   ]
  },
  {
   "cell_type": "code",
   "execution_count": null,
   "id": "1e8ed716",
   "metadata": {},
   "outputs": [],
   "source": [
    "inputsequences"
   ]
  },
  {
   "cell_type": "code",
   "execution_count": 7,
   "id": "df2490d3",
   "metadata": {},
   "outputs": [
    {
     "data": {
      "text/plain": [
       "14"
      ]
     },
     "execution_count": 7,
     "metadata": {},
     "output_type": "execute_result"
    }
   ],
   "source": [
    "max_len=max([len(x) for x in inputsequences])\n",
    "max_len"
   ]
  },
  {
   "cell_type": "code",
   "execution_count": 8,
   "id": "5e5ea444",
   "metadata": {},
   "outputs": [
    {
     "data": {
      "text/plain": [
       "array([[   0,    0,    0, ...,    0,    1,  687],\n",
       "       [   0,    0,    0, ...,    1,  687,    4],\n",
       "       [   0,    0,    0, ...,  687,    4,   45],\n",
       "       ...,\n",
       "       [   0,    0,    0, ...,    4,   45, 1047],\n",
       "       [   0,    0,    0, ...,   45, 1047,    4],\n",
       "       [   0,    0,    0, ..., 1047,    4,  193]])"
      ]
     },
     "execution_count": 8,
     "metadata": {},
     "output_type": "execute_result"
    }
   ],
   "source": [
    "input_sequences=np.array(pad_sequences(inputsequences,maxlen=max_len,padding='pre'))\n",
    "input_sequences"
   ]
  },
  {
   "cell_type": "code",
   "execution_count": 9,
   "id": "452e9a78",
   "metadata": {},
   "outputs": [],
   "source": [
    "x,y=input_sequences[:,:-1],input_sequences[:,-1]\n",
    "import tensorflow as tf\n",
    "\n",
    "y=tf.keras.utils.to_categorical(y,num_classes=total_words)"
   ]
  },
  {
   "cell_type": "code",
   "execution_count": 10,
   "id": "12159e31",
   "metadata": {},
   "outputs": [
    {
     "data": {
      "text/plain": [
       "array([[0., 0., 0., ..., 0., 0., 0.],\n",
       "       [0., 0., 0., ..., 0., 0., 0.],\n",
       "       [0., 0., 0., ..., 0., 0., 0.],\n",
       "       ...,\n",
       "       [0., 0., 0., ..., 0., 0., 0.],\n",
       "       [0., 0., 0., ..., 0., 0., 0.],\n",
       "       [0., 0., 0., ..., 0., 0., 0.]], dtype=float32)"
      ]
     },
     "execution_count": 10,
     "metadata": {},
     "output_type": "execute_result"
    }
   ],
   "source": [
    "y"
   ]
  },
  {
   "cell_type": "code",
   "execution_count": 11,
   "id": "7f4d4f12",
   "metadata": {},
   "outputs": [],
   "source": [
    "x_train,x_test,y_train,y_test=train_test_split(x,y,test_size=0.2)"
   ]
  },
  {
   "cell_type": "code",
   "execution_count": 12,
   "id": "b20390d2",
   "metadata": {},
   "outputs": [
    {
     "data": {
      "text/plain": [
       "array([[   0,    0,    0, ...,   46,  723,    2],\n",
       "       [   0,    0,    0, ...,   54, 3663,  321],\n",
       "       [   0,    0,    0, ...,    0,    0, 1531],\n",
       "       ...,\n",
       "       [   0,    0,    0, ...,    0,    0,   57],\n",
       "       [   0,    0,    0, ...,  397,  133,  309],\n",
       "       [   0,    0,    0, ...,   19,   11,    5]])"
      ]
     },
     "execution_count": 12,
     "metadata": {},
     "output_type": "execute_result"
    }
   ],
   "source": [
    "x_train"
   ]
  },
  {
   "cell_type": "code",
   "execution_count": 27,
   "id": "f3b3b1c9",
   "metadata": {},
   "outputs": [],
   "source": [
    "from tensorflow.keras.models import Sequential\n",
    "from tensorflow.keras.layers import LSTM,Embedding,Dense,Dropout\n",
    "\n",
    "model=Sequential()\n",
    "model.add(Embedding(total_words,100,input_length=max_len-1))\n",
    "model.add(LSTM(150,return_sequences=True))\n",
    "model.add(Dropout(0.4))\n",
    "model.add(LSTM(100))\n",
    "model.add(Dropout(0.4))\n",
    "model.add(Dense(total_words,activation='softmax'))"
   ]
  },
  {
   "cell_type": "code",
   "execution_count": 28,
   "id": "d788c2a0",
   "metadata": {},
   "outputs": [],
   "source": [
    "from tensorflow.keras.callbacks import EarlyStopping\n",
    "\n",
    "earlystopping=EarlyStopping(monitor='val_loss',patience=3,restore_best_weights=True)"
   ]
  },
  {
   "cell_type": "code",
   "execution_count": 29,
   "id": "86ff63cc",
   "metadata": {},
   "outputs": [
    {
     "name": "stdout",
     "output_type": "stream",
     "text": [
      "Model: \"sequential_4\"\n",
      "_________________________________________________________________\n",
      " Layer (type)                Output Shape              Param #   \n",
      "=================================================================\n",
      " embedding_4 (Embedding)     (None, 13, 100)           481800    \n",
      "                                                                 \n",
      " lstm_7 (LSTM)               (None, 13, 150)           150600    \n",
      "                                                                 \n",
      " dropout_4 (Dropout)         (None, 13, 150)           0         \n",
      "                                                                 \n",
      " lstm_8 (LSTM)               (None, 100)               100400    \n",
      "                                                                 \n",
      " dropout_5 (Dropout)         (None, 100)               0         \n",
      "                                                                 \n",
      " dense_3 (Dense)             (None, 4818)              486618    \n",
      "                                                                 \n",
      "=================================================================\n",
      "Total params: 1219418 (4.65 MB)\n",
      "Trainable params: 1219418 (4.65 MB)\n",
      "Non-trainable params: 0 (0.00 Byte)\n",
      "_________________________________________________________________\n"
     ]
    }
   ],
   "source": [
    "model.compile(optimizer='adam',loss='categorical_crossentropy',metrics=['accuracy'])\n",
    "model.summary()"
   ]
  },
  {
   "cell_type": "code",
   "execution_count": 30,
   "id": "8945cc1a",
   "metadata": {},
   "outputs": [
    {
     "name": "stdout",
     "output_type": "stream",
     "text": [
      "Epoch 1/50\n",
      "644/644 [==============================] - 24s 31ms/step - loss: 6.8335 - accuracy: 0.0321 - val_loss: 6.6495 - val_accuracy: 0.0359\n",
      "Epoch 2/50\n",
      "644/644 [==============================] - 20s 31ms/step - loss: 6.5045 - accuracy: 0.0347 - val_loss: 6.7259 - val_accuracy: 0.0369\n",
      "Epoch 3/50\n",
      "644/644 [==============================] - 22s 34ms/step - loss: 6.4095 - accuracy: 0.0389 - val_loss: 6.7965 - val_accuracy: 0.0464\n",
      "Epoch 4/50\n",
      "644/644 [==============================] - 23s 35ms/step - loss: 6.3177 - accuracy: 0.0417 - val_loss: 6.8581 - val_accuracy: 0.0499\n",
      "Epoch 5/50\n",
      "644/644 [==============================] - 20s 31ms/step - loss: 6.2250 - accuracy: 0.0494 - val_loss: 6.8997 - val_accuracy: 0.0530\n",
      "Epoch 6/50\n",
      "644/644 [==============================] - 22s 34ms/step - loss: 6.1357 - accuracy: 0.0526 - val_loss: 6.9380 - val_accuracy: 0.0554\n",
      "Epoch 7/50\n",
      "644/644 [==============================] - 20s 31ms/step - loss: 6.0568 - accuracy: 0.0545 - val_loss: 7.0122 - val_accuracy: 0.0583\n",
      "Epoch 8/50\n",
      "644/644 [==============================] - 22s 34ms/step - loss: 5.9762 - accuracy: 0.0591 - val_loss: 7.0227 - val_accuracy: 0.0622\n",
      "Epoch 9/50\n",
      "644/644 [==============================] - 22s 35ms/step - loss: 5.8952 - accuracy: 0.0677 - val_loss: 7.1146 - val_accuracy: 0.0618\n",
      "Epoch 10/50\n",
      "644/644 [==============================] - 20s 31ms/step - loss: 5.8004 - accuracy: 0.0720 - val_loss: 7.2101 - val_accuracy: 0.0647\n",
      "Epoch 11/50\n",
      "644/644 [==============================] - 21s 32ms/step - loss: 5.7254 - accuracy: 0.0769 - val_loss: 7.2341 - val_accuracy: 0.0674\n",
      "Epoch 12/50\n",
      "644/644 [==============================] - 21s 32ms/step - loss: 5.6452 - accuracy: 0.0820 - val_loss: 7.3110 - val_accuracy: 0.0666\n",
      "Epoch 13/50\n",
      "644/644 [==============================] - 22s 34ms/step - loss: 5.5653 - accuracy: 0.0846 - val_loss: 7.3840 - val_accuracy: 0.0678\n",
      "Epoch 14/50\n",
      "644/644 [==============================] - 22s 35ms/step - loss: 5.4898 - accuracy: 0.0890 - val_loss: 7.4474 - val_accuracy: 0.0688\n",
      "Epoch 15/50\n",
      "644/644 [==============================] - 22s 35ms/step - loss: 5.4137 - accuracy: 0.0908 - val_loss: 7.4981 - val_accuracy: 0.0699\n",
      "Epoch 16/50\n",
      "644/644 [==============================] - 20s 31ms/step - loss: 5.3409 - accuracy: 0.0971 - val_loss: 7.6061 - val_accuracy: 0.0682\n",
      "Epoch 17/50\n",
      "644/644 [==============================] - 22s 34ms/step - loss: 5.2676 - accuracy: 0.0979 - val_loss: 7.7004 - val_accuracy: 0.0699\n",
      "Epoch 18/50\n",
      "644/644 [==============================] - 23s 35ms/step - loss: 5.1970 - accuracy: 0.1011 - val_loss: 7.7852 - val_accuracy: 0.0686\n",
      "Epoch 19/50\n",
      "644/644 [==============================] - 26s 40ms/step - loss: 5.1203 - accuracy: 0.1064 - val_loss: 7.8897 - val_accuracy: 0.0684\n",
      "Epoch 20/50\n",
      "644/644 [==============================] - 35s 54ms/step - loss: 5.0578 - accuracy: 0.1087 - val_loss: 7.9618 - val_accuracy: 0.0643\n",
      "Epoch 21/50\n",
      "644/644 [==============================] - 37s 57ms/step - loss: 4.9822 - accuracy: 0.1124 - val_loss: 7.9914 - val_accuracy: 0.0663\n",
      "Epoch 22/50\n",
      "644/644 [==============================] - 35s 54ms/step - loss: 4.9220 - accuracy: 0.1174 - val_loss: 8.0958 - val_accuracy: 0.0655\n",
      "Epoch 23/50\n",
      "644/644 [==============================] - 34s 52ms/step - loss: 4.8584 - accuracy: 0.1169 - val_loss: 8.2295 - val_accuracy: 0.0655\n",
      "Epoch 24/50\n",
      "644/644 [==============================] - 35s 54ms/step - loss: 4.7900 - accuracy: 0.1232 - val_loss: 8.3009 - val_accuracy: 0.0624\n",
      "Epoch 25/50\n",
      "644/644 [==============================] - 35s 55ms/step - loss: 4.7223 - accuracy: 0.1234 - val_loss: 8.4153 - val_accuracy: 0.0663\n",
      "Epoch 26/50\n",
      "644/644 [==============================] - 32s 50ms/step - loss: 4.6698 - accuracy: 0.1285 - val_loss: 8.5583 - val_accuracy: 0.0629\n",
      "Epoch 27/50\n",
      "644/644 [==============================] - 34s 53ms/step - loss: 4.6141 - accuracy: 0.1318 - val_loss: 8.5517 - val_accuracy: 0.0639\n",
      "Epoch 28/50\n",
      "644/644 [==============================] - 35s 54ms/step - loss: 4.5534 - accuracy: 0.1357 - val_loss: 8.6869 - val_accuracy: 0.0643\n",
      "Epoch 29/50\n",
      "644/644 [==============================] - 34s 53ms/step - loss: 4.4915 - accuracy: 0.1389 - val_loss: 8.8351 - val_accuracy: 0.0633\n",
      "Epoch 30/50\n",
      "644/644 [==============================] - 32s 49ms/step - loss: 4.4560 - accuracy: 0.1446 - val_loss: 8.9138 - val_accuracy: 0.0645\n",
      "Epoch 31/50\n",
      "644/644 [==============================] - 37s 57ms/step - loss: 4.3949 - accuracy: 0.1442 - val_loss: 8.9148 - val_accuracy: 0.0641\n",
      "Epoch 32/50\n",
      "644/644 [==============================] - 34s 53ms/step - loss: 4.3439 - accuracy: 0.1508 - val_loss: 9.0380 - val_accuracy: 0.0641\n",
      "Epoch 33/50\n",
      "644/644 [==============================] - 32s 49ms/step - loss: 4.2957 - accuracy: 0.1551 - val_loss: 9.1146 - val_accuracy: 0.0606\n",
      "Epoch 34/50\n",
      "644/644 [==============================] - 33s 51ms/step - loss: 4.2487 - accuracy: 0.1591 - val_loss: 9.2323 - val_accuracy: 0.0604\n",
      "Epoch 35/50\n",
      "644/644 [==============================] - 33s 51ms/step - loss: 4.2014 - accuracy: 0.1630 - val_loss: 9.3197 - val_accuracy: 0.0635\n",
      "Epoch 36/50\n",
      "644/644 [==============================] - 33s 52ms/step - loss: 4.1509 - accuracy: 0.1671 - val_loss: 9.4121 - val_accuracy: 0.0633\n",
      "Epoch 37/50\n",
      "644/644 [==============================] - 34s 53ms/step - loss: 4.1180 - accuracy: 0.1707 - val_loss: 9.4678 - val_accuracy: 0.0628\n",
      "Epoch 38/50\n",
      "644/644 [==============================] - 35s 54ms/step - loss: 4.0700 - accuracy: 0.1780 - val_loss: 9.5871 - val_accuracy: 0.0600\n",
      "Epoch 39/50\n",
      "644/644 [==============================] - 37s 57ms/step - loss: 4.0296 - accuracy: 0.1823 - val_loss: 9.6706 - val_accuracy: 0.0629\n",
      "Epoch 40/50\n",
      "644/644 [==============================] - 36s 55ms/step - loss: 3.9967 - accuracy: 0.1867 - val_loss: 9.7385 - val_accuracy: 0.0608\n",
      "Epoch 41/50\n",
      "644/644 [==============================] - 35s 55ms/step - loss: 3.9523 - accuracy: 0.1875 - val_loss: 9.7481 - val_accuracy: 0.0614\n",
      "Epoch 42/50\n",
      "644/644 [==============================] - 34s 52ms/step - loss: 3.9201 - accuracy: 0.1939 - val_loss: 9.8407 - val_accuracy: 0.0596\n",
      "Epoch 43/50\n",
      "644/644 [==============================] - 34s 53ms/step - loss: 3.8771 - accuracy: 0.1984 - val_loss: 9.9772 - val_accuracy: 0.0608\n",
      "Epoch 44/50\n",
      "644/644 [==============================] - 34s 53ms/step - loss: 3.8463 - accuracy: 0.2040 - val_loss: 9.9937 - val_accuracy: 0.0606\n",
      "Epoch 45/50\n",
      "644/644 [==============================] - 33s 52ms/step - loss: 3.8112 - accuracy: 0.2079 - val_loss: 10.0270 - val_accuracy: 0.0604\n",
      "Epoch 46/50\n",
      "644/644 [==============================] - 32s 49ms/step - loss: 3.7745 - accuracy: 0.2128 - val_loss: 10.1286 - val_accuracy: 0.0581\n",
      "Epoch 47/50\n",
      "644/644 [==============================] - 31s 48ms/step - loss: 3.7538 - accuracy: 0.2145 - val_loss: 10.2532 - val_accuracy: 0.0587\n",
      "Epoch 48/50\n",
      "644/644 [==============================] - 23s 36ms/step - loss: 3.7198 - accuracy: 0.2204 - val_loss: 10.2377 - val_accuracy: 0.0596\n",
      "Epoch 49/50\n",
      "644/644 [==============================] - 23s 36ms/step - loss: 3.6866 - accuracy: 0.2269 - val_loss: 10.2976 - val_accuracy: 0.0604\n",
      "Epoch 50/50\n",
      "644/644 [==============================] - 22s 34ms/step - loss: 3.6583 - accuracy: 0.2279 - val_loss: 10.3836 - val_accuracy: 0.0614\n"
     ]
    }
   ],
   "source": [
    "history=model.fit(x_train,y_train,\n",
    "                  epochs=50,\n",
    "                  validation_data=(x_test,y_test),\n",
    "                  verbose=1,\n",
    "                  )"
   ]
  },
  {
   "cell_type": "code",
   "execution_count": 39,
   "id": "8c7265c7",
   "metadata": {},
   "outputs": [],
   "source": [
    "def predict_next_word(model,tokenizer,text,max_len):\n",
    "    token_list=tokenizer.texts_to_sequences([text])[0]\n",
    "    if len(token_list)>=max_len:\n",
    "        token_list=token_list[-(max_len-1):]\n",
    "        \n",
    "    token_list=pad_sequences([token_list],maxlen=max_len-1,padding='pre')\n",
    "    predicted=model.predict(token_list,verbose=0)\n",
    "    predicted_word_index=np.argmax(predicted,axis=1)\n",
    "    \n",
    "    for word,index in tokenizer.word_index.items():\n",
    "        if index==predicted_word_index:\n",
    "            return word\n",
    "    return None"
   ]
  },
  {
   "cell_type": "code",
   "execution_count": 41,
   "id": "1d460450",
   "metadata": {},
   "outputs": [
    {
     "name": "stdout",
     "output_type": "stream",
     "text": [
      "this the input text --To be or not to be \n",
      "next word is --as\n"
     ]
    }
   ],
   "source": [
    "input_text=\"To be or not to be \"\n",
    "print(f'this the input text --{input_text}')\n",
    "max_sequence_len=model.input_shape[1]+1\n",
    "next_word=predict_next_word(model,tokenizer,input_text,max_sequence_len)\n",
    "print(f'next word is --{next_word}')"
   ]
  },
  {
   "cell_type": "code",
   "execution_count": 38,
   "id": "890e6efa",
   "metadata": {},
   "outputs": [
    {
     "name": "stderr",
     "output_type": "stream",
     "text": [
      "e:\\machine learning\\project\\predict next word\\venv\\lib\\site-packages\\keras\\src\\engine\\training.py:3103: UserWarning: You are saving your model as an HDF5 file via `model.save()`. This file format is considered legacy. We recommend using instead the native Keras format, e.g. `model.save('my_model.keras')`.\n",
      "  saving_api.save_model(\n"
     ]
    }
   ],
   "source": [
    "model.save('model/model.h5')"
   ]
  },
  {
   "cell_type": "code",
   "execution_count": 36,
   "id": "ba3fb079",
   "metadata": {},
   "outputs": [],
   "source": [
    "import pickle\n",
    "with open('model/tokenizer.pkl','wb') as file:\n",
    "    pickle.dump(tokenizer,file)\n",
    "\n"
   ]
  },
  {
   "cell_type": "code",
   "execution_count": null,
   "id": "aca6780e",
   "metadata": {},
   "outputs": [],
   "source": []
  }
 ],
 "metadata": {
  "kernelspec": {
   "display_name": "Python 3",
   "language": "python",
   "name": "python3"
  },
  "language_info": {
   "codemirror_mode": {
    "name": "ipython",
    "version": 3
   },
   "file_extension": ".py",
   "mimetype": "text/x-python",
   "name": "python",
   "nbconvert_exporter": "python",
   "pygments_lexer": "ipython3",
   "version": "3.10.0"
  }
 },
 "nbformat": 4,
 "nbformat_minor": 5
}
