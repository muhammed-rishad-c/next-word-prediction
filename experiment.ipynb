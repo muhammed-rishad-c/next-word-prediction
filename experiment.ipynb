{
 "cells": [
  {
   "cell_type": "code",
   "execution_count": 1,
   "id": "f7a88e15",
   "metadata": {},
   "outputs": [
    {
     "name": "stderr",
     "output_type": "stream",
     "text": [
      "[nltk_data] Downloading package gutenberg to C:\\Users\\Rishad\n",
      "[nltk_data]     R\\AppData\\Roaming\\nltk_data...\n",
      "[nltk_data]   Package gutenberg is already up-to-date!\n"
     ]
    }
   ],
   "source": [
    "import nltk,os\n",
    "nltk.download('gutenberg')\n",
    "\n",
    "from nltk.corpus import gutenberg\n",
    "import pandas as pd\n",
    "\n",
    "data=gutenberg.raw('shakespeare-hamlet.txt')\n",
    "\n",
    "os.makedirs('data',exist_ok=True)\n",
    "\n",
    "with open('data/hamlet.txt','w') as file:\n",
    "    file.write(data)"
   ]
  },
  {
   "cell_type": "code",
   "execution_count": 2,
   "id": "db72411d",
   "metadata": {},
   "outputs": [
    {
     "name": "stdout",
     "output_type": "stream",
     "text": [
      "WARNING:tensorflow:From e:\\machine learning\\project\\predict next word\\venv\\lib\\site-packages\\keras\\src\\losses.py:2976: The name tf.losses.sparse_softmax_cross_entropy is deprecated. Please use tf.compat.v1.losses.sparse_softmax_cross_entropy instead.\n",
      "\n"
     ]
    }
   ],
   "source": [
    "import numpy as np\n",
    "from tensorflow.keras.preprocessing.text import Tokenizer\n",
    "from tensorflow.keras.preprocessing.sequence import pad_sequences\n",
    "from sklearn.model_selection import train_test_split"
   ]
  },
  {
   "cell_type": "code",
   "execution_count": 3,
   "id": "db93fb19",
   "metadata": {},
   "outputs": [
    {
     "name": "stdout",
     "output_type": "stream",
     "text": [
      "4818\n"
     ]
    }
   ],
   "source": [
    "with open('data/hamlet.txt','r') as file:\n",
    "    text=file.read().lower()\n",
    "    \n",
    "tokenizer=Tokenizer()\n",
    "tokenizer.fit_on_texts([text])\n",
    "total_words=len(tokenizer.word_index)+1\n",
    "print(total_words)"
   ]
  },
  {
   "cell_type": "code",
   "execution_count": null,
   "id": "9b939e8d",
   "metadata": {},
   "outputs": [],
   "source": [
    "tokenizer.word_index"
   ]
  },
  {
   "cell_type": "code",
   "execution_count": 5,
   "id": "77a1483a",
   "metadata": {},
   "outputs": [],
   "source": [
    "inputsequences=[]\n",
    "\n",
    "for line in text.split('\\n'):\n",
    "    token_list=tokenizer.texts_to_sequences([line])[0]\n",
    "    for i in range(1,len(token_list)):\n",
    "        n_gram_sequences=token_list[:i+1]\n",
    "        inputsequences.append(n_gram_sequences)"
   ]
  },
  {
   "cell_type": "code",
   "execution_count": null,
   "id": "1e8ed716",
   "metadata": {},
   "outputs": [],
   "source": [
    "inputsequences"
   ]
  },
  {
   "cell_type": "code",
   "execution_count": 7,
   "id": "df2490d3",
   "metadata": {},
   "outputs": [
    {
     "data": {
      "text/plain": [
       "14"
      ]
     },
     "execution_count": 7,
     "metadata": {},
     "output_type": "execute_result"
    }
   ],
   "source": [
    "max_len=max([len(x) for x in inputsequences])\n",
    "max_len"
   ]
  },
  {
   "cell_type": "code",
   "execution_count": 8,
   "id": "5e5ea444",
   "metadata": {},
   "outputs": [
    {
     "data": {
      "text/plain": [
       "array([[   0,    0,    0, ...,    0,    1,  687],\n",
       "       [   0,    0,    0, ...,    1,  687,    4],\n",
       "       [   0,    0,    0, ...,  687,    4,   45],\n",
       "       ...,\n",
       "       [   0,    0,    0, ...,    4,   45, 1047],\n",
       "       [   0,    0,    0, ...,   45, 1047,    4],\n",
       "       [   0,    0,    0, ..., 1047,    4,  193]])"
      ]
     },
     "execution_count": 8,
     "metadata": {},
     "output_type": "execute_result"
    }
   ],
   "source": [
    "input_sequences=np.array(pad_sequences(inputsequences,maxlen=max_len,padding='pre'))\n",
    "input_sequences"
   ]
  },
  {
   "cell_type": "code",
   "execution_count": 9,
   "id": "452e9a78",
   "metadata": {},
   "outputs": [],
   "source": [
    "x,y=input_sequences[:,:-1],input_sequences[:,-1]\n",
    "import tensorflow as tf\n",
    "\n",
    "y=tf.keras.utils.to_categorical(y,num_classes=total_words)"
   ]
  },
  {
   "cell_type": "code",
   "execution_count": 10,
   "id": "12159e31",
   "metadata": {},
   "outputs": [
    {
     "data": {
      "text/plain": [
       "array([[0., 0., 0., ..., 0., 0., 0.],\n",
       "       [0., 0., 0., ..., 0., 0., 0.],\n",
       "       [0., 0., 0., ..., 0., 0., 0.],\n",
       "       ...,\n",
       "       [0., 0., 0., ..., 0., 0., 0.],\n",
       "       [0., 0., 0., ..., 0., 0., 0.],\n",
       "       [0., 0., 0., ..., 0., 0., 0.]], dtype=float32)"
      ]
     },
     "execution_count": 10,
     "metadata": {},
     "output_type": "execute_result"
    }
   ],
   "source": [
    "y"
   ]
  },
  {
   "cell_type": "code",
   "execution_count": 11,
   "id": "7f4d4f12",
   "metadata": {},
   "outputs": [],
   "source": [
    "x_train,x_test,y_train,y_test=train_test_split(x,y,test_size=0.2)"
   ]
  },
  {
   "cell_type": "code",
   "execution_count": 12,
   "id": "b20390d2",
   "metadata": {},
   "outputs": [
    {
     "data": {
      "text/plain": [
       "array([[   0,    0,    0, ...,   46,  723,    2],\n",
       "       [   0,    0,    0, ...,   54, 3663,  321],\n",
       "       [   0,    0,    0, ...,    0,    0, 1531],\n",
       "       ...,\n",
       "       [   0,    0,    0, ...,    0,    0,   57],\n",
       "       [   0,    0,    0, ...,  397,  133,  309],\n",
       "       [   0,    0,    0, ...,   19,   11,    5]])"
      ]
     },
     "execution_count": 12,
     "metadata": {},
     "output_type": "execute_result"
    }
   ],
   "source": [
    "x_train"
   ]
  },
  {
   "cell_type": "code",
   "execution_count": 20,
   "id": "f3b3b1c9",
   "metadata": {},
   "outputs": [],
   "source": [
    "from tensorflow.keras.models import Sequential\n",
    "from tensorflow.keras.layers import LSTM,Embedding,Dense,Dropout\n",
    "\n",
    "model=Sequential()\n",
    "model.add(Embedding(total_words,100,input_length=max_len-1))\n",
    "model.add(LSTM(150,return_sequences=True))\n",
    "model.add(Dropout(0.4))\n",
    "model.add(LSTM(100))\n",
    "model.add(Dropout(0.4))\n",
    "model.add(Dense(total_words,activation='softmax'))"
   ]
  },
  {
   "cell_type": "code",
   "execution_count": 21,
   "id": "d788c2a0",
   "metadata": {},
   "outputs": [],
   "source": [
    "from tensorflow.keras.callbacks import EarlyStopping\n",
    "\n",
    "earlystopping=EarlyStopping(monitor='val_loss',patience=3,restore_best_weights=True)"
   ]
  },
  {
   "cell_type": "code",
   "execution_count": 22,
   "id": "86ff63cc",
   "metadata": {},
   "outputs": [
    {
     "name": "stdout",
     "output_type": "stream",
     "text": [
      "Model: \"sequential_3\"\n",
      "_________________________________________________________________\n",
      " Layer (type)                Output Shape              Param #   \n",
      "=================================================================\n",
      " embedding_3 (Embedding)     (None, 13, 100)           481800    \n",
      "                                                                 \n",
      " lstm_5 (LSTM)               (None, 13, 150)           150600    \n",
      "                                                                 \n",
      " dropout_2 (Dropout)         (None, 13, 150)           0         \n",
      "                                                                 \n",
      " lstm_6 (LSTM)               (None, 100)               100400    \n",
      "                                                                 \n",
      " dropout_3 (Dropout)         (None, 100)               0         \n",
      "                                                                 \n",
      " dense_2 (Dense)             (None, 4818)              486618    \n",
      "                                                                 \n",
      "=================================================================\n",
      "Total params: 1219418 (4.65 MB)\n",
      "Trainable params: 1219418 (4.65 MB)\n",
      "Non-trainable params: 0 (0.00 Byte)\n",
      "_________________________________________________________________\n"
     ]
    }
   ],
   "source": [
    "model.compile(optimizer='adam',loss='categorical_crossentropy',metrics=['accuracy'])\n",
    "model.summary()"
   ]
  },
  {
   "cell_type": "code",
   "execution_count": 23,
   "id": "8945cc1a",
   "metadata": {},
   "outputs": [
    {
     "name": "stdout",
     "output_type": "stream",
     "text": [
      "Epoch 1/50\n",
      "644/644 [==============================] - 26s 33ms/step - loss: 6.8250 - accuracy: 0.0319 - val_loss: 6.6583 - val_accuracy: 0.0359\n",
      "Epoch 2/50\n",
      "644/644 [==============================] - 22s 35ms/step - loss: 6.5013 - accuracy: 0.0342 - val_loss: 6.7249 - val_accuracy: 0.0361\n",
      "Epoch 3/50\n",
      "644/644 [==============================] - 56s 88ms/step - loss: 6.4056 - accuracy: 0.0391 - val_loss: 6.8017 - val_accuracy: 0.0449\n",
      "Epoch 4/50\n",
      "644/644 [==============================] - 66s 102ms/step - loss: 6.3175 - accuracy: 0.0436 - val_loss: 6.8384 - val_accuracy: 0.0534\n"
     ]
    }
   ],
   "source": [
    "history=model.fit(x_train,y_train,\n",
    "                  epochs=50,\n",
    "                  validation_data=(x_test,y_test),\n",
    "                  verbose=1,\n",
    "                  callbacks=[earlystopping])"
   ]
  },
  {
   "cell_type": "code",
   "execution_count": null,
   "id": "8c7265c7",
   "metadata": {},
   "outputs": [],
   "source": []
  }
 ],
 "metadata": {
  "kernelspec": {
   "display_name": "Python 3",
   "language": "python",
   "name": "python3"
  },
  "language_info": {
   "codemirror_mode": {
    "name": "ipython",
    "version": 3
   },
   "file_extension": ".py",
   "mimetype": "text/x-python",
   "name": "python",
   "nbconvert_exporter": "python",
   "pygments_lexer": "ipython3",
   "version": "3.10.0"
  }
 },
 "nbformat": 4,
 "nbformat_minor": 5
}
